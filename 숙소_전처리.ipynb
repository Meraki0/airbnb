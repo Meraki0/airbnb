{
 "cells": [
  {
   "cell_type": "markdown",
   "id": "b2054789",
   "metadata": {},
   "source": [
    "### <숙소관련 변수 전처리 개요>\n",
    "\n",
    "1. property_type\t숙소 유형 (ex: 아파트, 집, 호텔 등) <br>\n",
    "--> 미활용\n",
    "\n",
    "2. room_type\t방 종류 (Entire home/apt, Private room, Shared room) <br>\n",
    "--> get_dummies를 활용해 원핫인코딩 <br>\n",
    "--> 4개 범주 : 'room_type_Entire home/apt', 'room_type_Hotel room', 'room_type_Private room', 'room_type_Shared room'\n",
    "\n",
    "3.  accommodates\t숙소 수용 가능 인원 <br>\n",
    "--> 유지\n",
    "\n",
    "4.  bedrooms\t침실 개수 <br>\n",
    "--> 유지\n",
    "\n",
    "5.  beds\t침대 개수 <br>\n",
    "--> 유지\n",
    "\n",
    "6.  bathrooms\t욕실 수 <br>\n",
    "--> 침실1개, 침대1개인데 화장실이 10개인 이상치 데이터 1개 삭제\n",
    "\n",
    "7.  amenities\t편의시설 목록 (JSON 형식) <br>\n",
    "--> 개수 카운팅해서 'amenities_count'파생컬럼 생성\n",
    "\n",
    "8.  amenities\t편의시설 목록 (JSON 형식) <br>\n",
    "-->인기 어메니티 키워드를 모두 포함하면 1, 아니면 0으로 파생컬럼 생성\n"
   ]
  },
  {
   "cell_type": "markdown",
   "id": "6ed8b52f",
   "metadata": {},
   "source": [
    "### room_type\t방 종류 (Entire home/apt, Private room, Shared room) <br>\n",
    "--> get_dummies를 활용해 원핫인코딩 <br>\n",
    "--> 4개 범주 : 'room_type_Entire home/apt', 'room_type_Hotel room', 'room_type_Private room', 'room_type_Shared room'"
   ]
  },
  {
   "cell_type": "code",
   "execution_count": 2,
   "id": "bc4f067b",
   "metadata": {},
   "outputs": [
    {
     "ename": "NameError",
     "evalue": "name 'pd' is not defined",
     "output_type": "error",
     "traceback": [
      "\u001b[31m---------------------------------------------------------------------------\u001b[39m",
      "\u001b[31mNameError\u001b[39m                                 Traceback (most recent call last)",
      "\u001b[36mCell\u001b[39m\u001b[36m \u001b[39m\u001b[32mIn[2]\u001b[39m\u001b[32m, line 5\u001b[39m\n\u001b[32m      1\u001b[39m \u001b[38;5;66;03m# 기존 room_type 컬럼 유지하면서 더미컬럼을 df에 추가\u001b[39;00m\n\u001b[32m      2\u001b[39m \u001b[38;5;66;03m# prefix='room_type'은 함수에서 생성되는 더미변수 이름 앞에 붙일 접두사 room_type_privae room이렇게 앞에 붙음\u001b[39;00m\n\u001b[32m      3\u001b[39m \u001b[38;5;66;03m# 랜덤포레스트회귀는 다중공선성 문제 없으므로 drop_first=False해서 room_type의 모든 범주가 더미변수로 생성되게 하기\u001b[39;00m\n\u001b[32m----> \u001b[39m\u001b[32m5\u001b[39m dummies = \u001b[43mpd\u001b[49m.get_dummies(df[\u001b[33m'\u001b[39m\u001b[33mroom_type\u001b[39m\u001b[33m'\u001b[39m], prefix=\u001b[33m'\u001b[39m\u001b[33mroom_type\u001b[39m\u001b[33m'\u001b[39m, drop_first=\u001b[38;5;28;01mFalse\u001b[39;00m)\n\u001b[32m      6\u001b[39m df = pd.concat([df, dummies], axis=\u001b[32m1\u001b[39m)\n",
      "\u001b[31mNameError\u001b[39m: name 'pd' is not defined"
     ]
    }
   ],
   "source": [
    "# 기존 room_type 컬럼 유지하면서 더미컬럼을 df에 추가\n",
    "# prefix='room_type'은 함수에서 생성되는 더미변수 이름 앞에 붙일 접두사 room_type_privae room이렇게 앞에 붙음\n",
    "# 랜덤포레스트회귀는 다중공선성 문제 없으므로 drop_first=False해서 room_type의 모든 범주가 더미변수로 생성되게 하기\n",
    "\n",
    "dummies = pd.get_dummies(df['room_type'], prefix='room_type', drop_first=False)\n",
    "df = pd.concat([df, dummies], axis=1)"
   ]
  },
  {
   "cell_type": "markdown",
   "id": "a9cdda5f",
   "metadata": {},
   "source": [
    "### bathrooms\t욕실 수 <br>\n",
    "--> 침실1개, 침대1개인데 화장실이 10개인 이상치 데이터 1개 삭제"
   ]
  },
  {
   "cell_type": "code",
   "execution_count": 4,
   "id": "25209022",
   "metadata": {},
   "outputs": [
    {
     "ename": "NameError",
     "evalue": "name 'df' is not defined",
     "output_type": "error",
     "traceback": [
      "\u001b[31m---------------------------------------------------------------------------\u001b[39m",
      "\u001b[31mNameError\u001b[39m                                 Traceback (most recent call last)",
      "\u001b[36mCell\u001b[39m\u001b[36m \u001b[39m\u001b[32mIn[4]\u001b[39m\u001b[32m, line 2\u001b[39m\n\u001b[32m      1\u001b[39m \u001b[38;5;66;03m#값이 10.5인 이상치 데이터의 인덱스 확인해서 index_to_drop에 담기\u001b[39;00m\n\u001b[32m----> \u001b[39m\u001b[32m2\u001b[39m index_to_drop = \u001b[43mdf\u001b[49m[df[\u001b[33m'\u001b[39m\u001b[33mbathrooms\u001b[39m\u001b[33m'\u001b[39m] == \u001b[32m10.5\u001b[39m].index\n\u001b[32m      4\u001b[39m \u001b[38;5;66;03m#인덱스를 기준으로 행 제거하기, 원본에 바로 반영\u001b[39;00m\n\u001b[32m      5\u001b[39m df.drop(index=index_to_drop, inplace=\u001b[38;5;28;01mTrue\u001b[39;00m)\n",
      "\u001b[31mNameError\u001b[39m: name 'df' is not defined"
     ]
    }
   ],
   "source": [
    "#값이 10.5인 이상치 데이터의 인덱스 확인해서 index_to_drop에 담기\n",
    "index_to_drop = df[df['bathrooms'] == 10.5].index\n",
    "\n",
    "#인덱스를 기준으로 행 제거하기, 원본에 바로 반영\n",
    "df.drop(index=index_to_drop, inplace=True)"
   ]
  },
  {
   "cell_type": "markdown",
   "id": "b5958684",
   "metadata": {},
   "source": [
    "### amenities\t편의시설 목록 (JSON 형식) <br>\n",
    "--> 개수 카운팅해서 'amenities_count'파생컬럼 생성"
   ]
  },
  {
   "cell_type": "code",
   "execution_count": 3,
   "id": "a31799c2",
   "metadata": {},
   "outputs": [
    {
     "ename": "NameError",
     "evalue": "name 'df' is not defined",
     "output_type": "error",
     "traceback": [
      "\u001b[31m---------------------------------------------------------------------------\u001b[39m",
      "\u001b[31mNameError\u001b[39m                                 Traceback (most recent call last)",
      "\u001b[36mCell\u001b[39m\u001b[36m \u001b[39m\u001b[32mIn[3]\u001b[39m\u001b[32m, line 8\u001b[39m\n\u001b[32m      1\u001b[39m \u001b[38;5;66;03m#ast.literal_eval() 문자열로 된 리시트, 딕셔너리, 숫자, 튜플 등을 실제 파이썬 객체로 안전하게 변환하고 싶을 때 사용\u001b[39;00m\n\u001b[32m      2\u001b[39m \u001b[38;5;66;03m#ast : abstract syntax tree 모듈 -> 파이썬 코드 자체를 문법구조로 분석하는 내장 모듈\u001b[39;00m\n\u001b[32m      3\u001b[39m \u001b[38;5;66;03m#literal_eval : 문자 그대로 평가하는 뜻\u001b[39;00m\n\u001b[32m      4\u001b[39m \u001b[38;5;66;03m#문법을 보고 문자 그대로 평가해서 객체로 바꿔\u001b[39;00m\n\u001b[32m      5\u001b[39m \u001b[38;5;66;03m#apply 각 행에 대해 람다 함수를 적용해\u001b[39;00m\n\u001b[32m      6\u001b[39m \u001b[38;5;28;01mimport\u001b[39;00m\u001b[38;5;250m \u001b[39m\u001b[34;01mast\u001b[39;00m\n\u001b[32m----> \u001b[39m\u001b[32m8\u001b[39m df[\u001b[33m'\u001b[39m\u001b[33mamenities_count\u001b[39m\u001b[33m'\u001b[39m] = \u001b[43mdf\u001b[49m[\u001b[33m'\u001b[39m\u001b[33mamenities\u001b[39m\u001b[33m'\u001b[39m].apply(\u001b[38;5;28;01mlambda\u001b[39;00m x : \u001b[38;5;28mlen\u001b[39m(ast.literal_eval(x))) \n\u001b[32m      9\u001b[39m df.head(\u001b[32m3\u001b[39m)\n\u001b[32m     11\u001b[39m \u001b[38;5;66;03m# 즉 '[]'로 된 문자열 자체를 평가해서 리스트로 변환하고 리스트의 요소를 세는 함수를 각 행에 적용해서 반환\u001b[39;00m\n",
      "\u001b[31mNameError\u001b[39m: name 'df' is not defined"
     ]
    }
   ],
   "source": [
    "#ast.literal_eval() 문자열로 된 리시트, 딕셔너리, 숫자, 튜플 등을 실제 파이썬 객체로 안전하게 변환하고 싶을 때 사용\n",
    "#ast : abstract syntax tree 모듈 -> 파이썬 코드 자체를 문법구조로 분석하는 내장 모듈\n",
    "#literal_eval : 문자 그대로 평가하는 뜻\n",
    "#문법을 보고 문자 그대로 평가해서 객체로 바꿔\n",
    "#apply 각 행에 대해 람다 함수를 적용해\n",
    "import ast\n",
    "\n",
    "df['amenities_count'] = df['amenities'].apply(lambda x : len(ast.literal_eval(x))) \n",
    "df.head(3)\n",
    "\n",
    "# 즉 '[]'로 된 문자열 자체를 평가해서 리스트로 변환하고 리스트의 요소를 세는 함수를 각 행에 적용해서 반환"
   ]
  },
  {
   "cell_type": "markdown",
   "id": "147b66e8",
   "metadata": {},
   "source": [
    "### amenities\t편의시설 목록 (JSON 형식) <br>\n",
    "-->인기 어메니티 키워드 6개를 모두 포함하면 1, 아니면 0으로 파생컬럼 생성"
   ]
  },
  {
   "cell_type": "code",
   "execution_count": null,
   "id": "2a08808c",
   "metadata": {},
   "outputs": [],
   "source": [
    "#25년도 7월 기준 에어비앤비 홈페이지 뉴욕시 어메니티 인기 키워드 6개\n",
    "popular_amenities = [\n",
    "    'TV',\n",
    "    'Air conditioning',\n",
    "    'Wifi',\n",
    "    'Washer',\n",
    "    'Free parking',\n",
    "    'Dryer'\n",
    "]\n",
    "\n",
    "#인기 키워드 6종을 모두 포함한 숙소를 1, 아닌 숙소를 0으로 분류\n",
    "def contains_all_popular_amenity(amenities_str):\n",
    "    return int(all(keyword in amenities_str for keyword in popular_amenities))\n",
    "\n",
    "df['has_all_popular_amenity'] = df['amenities'].apply(contains_all_popular_amenity)\n"
   ]
  }
 ],
 "metadata": {
  "kernelspec": {
   "display_name": "venv",
   "language": "python",
   "name": "python3"
  },
  "language_info": {
   "codemirror_mode": {
    "name": "ipython",
    "version": 3
   },
   "file_extension": ".py",
   "mimetype": "text/x-python",
   "name": "python",
   "nbconvert_exporter": "python",
   "pygments_lexer": "ipython3",
   "version": "3.13.4"
  }
 },
 "nbformat": 4,
 "nbformat_minor": 5
}
