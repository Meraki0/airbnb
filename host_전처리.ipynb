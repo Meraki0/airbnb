{
 "cells": [
  {
   "cell_type": "code",
   "execution_count": null,
   "id": "4461894d",
   "metadata": {},
   "outputs": [],
   "source": [
    "import sys\n",
    "!{sys.executable} -m pip install scikit-learn\n"
   ]
  },
  {
   "cell_type": "code",
   "execution_count": 18,
   "id": "c4ef0e39",
   "metadata": {},
   "outputs": [],
   "source": [
    "import pandas as pd\n",
    "import numpy as np\n",
    "import matplotlib.pyplot as plt\n",
    "import seaborn as sns\n",
    "import sklearn\n",
    "from sklearn.model_selection import train_test_split\n",
    "from sklearn.ensemble import RandomForestRegressor\n"
   ]
  },
  {
   "cell_type": "code",
   "execution_count": 19,
   "id": "f4030a9c",
   "metadata": {},
   "outputs": [],
   "source": [
    "df = pd.read_csv('/Users/t2023-m0090/Downloads/2025_Airbnb_NYC_listings.csv')  "
   ]
  },
  {
   "cell_type": "code",
   "execution_count": null,
   "id": "3f567e14",
   "metadata": {},
   "outputs": [],
   "source": [
    "# 한글 깨짐 방지 (필요시)\n",
    "plt.rcParams['font.family'] = 'AppleGothic'  # macOS\n",
    "# plt.rcParams['font.family'] = 'Malgun Gothic'  # Windows\n",
    "plt.rcParams['axes.unicode_minus'] = False\n",
    "\n",
    "# price object형 → float 변환\n",
    "df['price'] = df['price'].replace('[\\$,]', '', regex=True).astype(float)"
   ]
  },
  {
   "cell_type": "markdown",
   "id": "5afbc3a4",
   "metadata": {},
   "source": [
    "#  여기부터 전처리 코드"
   ]
  },
  {
   "cell_type": "code",
   "execution_count": null,
   "id": "4ab4b5f4",
   "metadata": {},
   "outputs": [],
   "source": [
    "# 전처리 host_listings_count - 결측치 제거, 로그 변환 후 이상치 제거\n",
    "\n",
    "import numpy as np\n",
    "\n",
    "#결측치 제거\n",
    "df = df.dropna(subset=['host_listings_count'])\n",
    "\n",
    "#로그 변환\n",
    "df['log_host_listings'] = np.log1p(df['host_listings_count'])\n",
    "\n",
    "# 로그 기준으로 IQR 이상치 제거\n",
    "q1 = df['log_host_listings'].quantile(0.25)\n",
    "q3 = df['log_host_listings'].quantile(0.75)\n",
    "iqr = q3 - q1\n",
    "lower = q1 - 1.5 * iqr\n",
    "upper = q3 + 1.5 * iqr\n",
    "\n",
    "# 이상치 제거\n",
    "df = df[(df['log_host_listings'] >= lower) & (df['log_host_listings'] <= upper)]\n"
   ]
  },
  {
   "cell_type": "code",
   "execution_count": null,
   "id": "da43492e",
   "metadata": {},
   "outputs": [],
   "source": [
    "#전처리  host_is_superhost - 결측치 제거, 이진코딩\n",
    "import numpy as np\n",
    "\n",
    "df['host_is_superhost'] = df['host_is_superhost'].astype(str).str.strip()\n",
    "df['host_is_superhost'] = df['host_is_superhost'].replace('nan', np.nan)\n",
    "df['host_is_superhost'] = df['host_is_superhost'].map({'t': 1, 'f': 0})\n",
    "df = df.dropna(subset=['host_is_superhost'])\n"
   ]
  },
  {
   "cell_type": "code",
   "execution_count": null,
   "id": "e0edbc33",
   "metadata": {},
   "outputs": [],
   "source": [
    "#전처리  host_identity_verified - 결측치 제거, 이진코딩\n",
    "import numpy as np\n",
    "\n",
    "df['host_identity_verified'] = df['host_identity_verified'].astype(str).str.strip()\n",
    "df['host_identity_verified'] = df['host_identity_verified'].replace('nan', np.nan)\n",
    "df['host_identity_verified'] = df['host_identity_verified'].map({'t': 1, 'f': 0})\n",
    "df = df.dropna(subset=['host_identity_verified'])"
   ]
  },
  {
   "cell_type": "code",
   "execution_count": null,
   "id": "cbbec989",
   "metadata": {},
   "outputs": [],
   "source": [
    "#전처리 - host_response_rate, host_acceptance_rate (타입 변환, 결측치 중앙값으로)\n",
    "df['host_response_rate'] = df['host_response_rate'].str.rstrip('%').astype(float)\n",
    "df['host_acceptance_rate'] = df['host_acceptance_rate'].str.rstrip('%').astype(float)\n",
    "df['host_response_rate'].fillna(df['host_response_rate'].median(), inplace=True)\n",
    "df['host_acceptance_rate'].fillna(df['host_acceptance_rate'].median(), inplace=True)\n"
   ]
  },
  {
   "cell_type": "code",
   "execution_count": null,
   "id": "938110d1",
   "metadata": {},
   "outputs": [],
   "source": [
    "# 전처리 - host_response_time 순서형 범주처리, 결측치 최빈값으로\n",
    "response_time_mapping = {\n",
    "    'within an hour': 0,\n",
    "    'within a few hours': 1,\n",
    "    'within a day': 2,\n",
    "    'a few days or more': 3\n",
    "}\n",
    "df['host_response_time'] = df['host_response_time'].map(response_time_mapping)\n",
    "\n",
    "# 결측치 -> 최빈값으로 대체\n",
    "df['host_response_time'].fillna(df['host_response_time'].mode()[0], inplace=True)\n"
   ]
  },
  {
   "cell_type": "markdown",
   "id": "0dd8721c",
   "metadata": {},
   "source": [
    "# --------------"
   ]
  }
 ],
 "metadata": {
  "kernelspec": {
   "display_name": "Python 3",
   "language": "python",
   "name": "python3"
  },
  "language_info": {
   "codemirror_mode": {
    "name": "ipython",
    "version": 3
   },
   "file_extension": ".py",
   "mimetype": "text/x-python",
   "name": "python",
   "nbconvert_exporter": "python",
   "pygments_lexer": "ipython3",
   "version": "3.13.0"
  }
 },
 "nbformat": 4,
 "nbformat_minor": 5
}
