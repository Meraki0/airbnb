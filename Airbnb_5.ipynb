{
 "cells": [
  {
   "cell_type": "code",
   "execution_count": 363,
   "id": "81c165db",
   "metadata": {},
   "outputs": [],
   "source": [
    "import pandas as pd\n",
    "import numpy as np\n",
    "import seaborn as sns\n",
    "import matplotlib.pyplot as plt\n",
    "import folium\n",
    "from sklearn.preprocessing import StandardScaler\n",
    "from sklearn.preprocessing import MinMaxScaler\n",
    "from matplotlib_inline.backend_inline import set_matplotlib_formats\n",
    "from sklearn.linear_model import LinearRegression\n",
    "from sklearn.model_selection import train_test_split\n",
    "from sklearn.ensemble import RandomForestClassifier\n",
    "from sklearn.metrics import mean_squared_error\n",
    "from sklearn.metrics import accuracy_score\n",
    "from sklearn.metrics import r2_score\n",
    "from sklearn.metrics import f1_score\n",
    "from scipy import stats\n",
    "from scipy.stats import chi2_contingency"
   ]
  },
  {
   "cell_type": "code",
   "execution_count": 364,
   "id": "1c5d1729",
   "metadata": {},
   "outputs": [],
   "source": [
    "# 한글 폰트\n",
    "plt.rc(\"font\", family = 'AppleGothic')\n",
    "plt.rc(\"axes\", unicode_minus = False)\n",
    "\n",
    "# 글씨 선명하게\n",
    "set_matplotlib_formats(\"retina\")"
   ]
  },
  {
   "cell_type": "code",
   "execution_count": 365,
   "id": "c572d4a0",
   "metadata": {},
   "outputs": [
    {
     "name": "stdout",
     "output_type": "stream",
     "text": [
      "데이터 수 : (22308, 73)\n"
     ]
    }
   ],
   "source": [
    "df = pd.read_csv('2025_Airbnb_NYC_listings.csv')\n",
    "print(f\"데이터 수 : {df.shape}\")"
   ]
  },
  {
   "cell_type": "markdown",
   "id": "5af10ded",
   "metadata": {},
   "source": [
    "# 컬럼 정리"
   ]
  },
  {
   "cell_type": "code",
   "execution_count": 366,
   "id": "8a7d91c0",
   "metadata": {},
   "outputs": [],
   "source": [
    "cols_keep =[\n",
    "    'host_id',\n",
    "    'host_response_time',\n",
    "    'host_response_rate',\n",
    "    'host_acceptance_rate',\n",
    "    'host_is_superhost',\n",
    "    'host_identity_verified',\n",
    "    'host_listings_count',\n",
    "    'neighbourhood_group_cleansed',\n",
    "    'latitude',\n",
    "    'longitude',\n",
    "    'property_type',\n",
    "    'room_type',\n",
    "    'accommodates',\n",
    "    'bedrooms',\n",
    "    'beds',\n",
    "    'bathrooms',\n",
    "    'amenities',\n",
    "    'number_of_reviews',\n",
    "    'reviews_per_month',\n",
    "    'review_scores_rating',\n",
    "    'review_scores_cleanliness',\n",
    "    'review_scores_communication',\n",
    "    'first_review',\n",
    "    'last_review',\n",
    "    'price',\n",
    "    'minimum_nights',\n",
    "    'maximum_nights',\n",
    "    'availability_365',\n",
    "    'instant_bookable',\n",
    "]\n",
    "\n",
    "df = df[cols_keep]"
   ]
  },
  {
   "cell_type": "markdown",
   "id": "720a5b46",
   "metadata": {},
   "source": [
    "# neighbourhood_group_cleansed 전처리"
   ]
  },
  {
   "cell_type": "code",
   "execution_count": 367,
   "id": "cb49b085",
   "metadata": {},
   "outputs": [],
   "source": [
    "#neighbourhood_group_cleansed 원 핫 인코딩 \n",
    "\n",
    "# encoding = pd.get_dummies(df, columns = ['neighbourhood_group_cleansed'], drop_first = True)\n",
    "df = pd.get_dummies(df, columns = ['neighbourhood_group_cleansed'])\n",
    "\n",
    "df[df.select_dtypes(include = 'bool').columns] = df.select_dtypes(include = 'bool').astype(int)"
   ]
  },
  {
   "cell_type": "code",
   "execution_count": 368,
   "id": "0e7f13f4",
   "metadata": {},
   "outputs": [],
   "source": [
    "# 컬럼명 변경\n",
    "\n",
    "df.rename(columns = {\n",
    "    'neighbourhood_group_cleansed_Bronx' : 'bornx',\n",
    "    'neighbourhood_group_cleansed_Brooklyn' : 'brooklyn',\n",
    "    'neighbourhood_group_cleansed_Manhattan' : 'manhattan',\n",
    "    'neighbourhood_group_cleansed_Queens' : 'queens',\n",
    "    'neighbourhood_group_cleansed_Staten Island' : 'staten island'\n",
    "}, inplace = True)"
   ]
  },
  {
   "cell_type": "markdown",
   "id": "232b6432",
   "metadata": {},
   "source": [
    "# price 전처리"
   ]
  },
  {
   "cell_type": "code",
   "execution_count": 369,
   "id": "e0d50396",
   "metadata": {},
   "outputs": [],
   "source": [
    "# $ 제거\n",
    "\n",
    "df['price'] = df['price'].replace('[\\$,]', '', regex = True).astype(float)"
   ]
  },
  {
   "cell_type": "code",
   "execution_count": 370,
   "id": "dddd8b08",
   "metadata": {},
   "outputs": [],
   "source": [
    "import matplotlib.pyplot as plt\n",
    "import seaborn as sns\n",
    "\n",
    "# IQR 계산\n",
    "Q1 = df['price'].quantile(0.25)\n",
    "Q3 = df['price'].quantile(0.75)\n",
    "IQR = Q3 - Q1\n",
    "lower_bound = Q1 - 1.5 * IQR\n",
    "upper_bound = Q3 + 1.5 * IQR\n",
    "\n",
    "df = df[(df['price'] >= lower_bound) & (df['price'] <= upper_bound)]"
   ]
  },
  {
   "cell_type": "code",
   "execution_count": 371,
   "id": "5e6ae2ec",
   "metadata": {},
   "outputs": [],
   "source": [
    "df.loc[:, 'log_price'] = np.log(df['price'])"
   ]
  },
  {
   "cell_type": "markdown",
   "id": "2b42c8e3",
   "metadata": {},
   "source": [
    "# instant_bookable 전처리"
   ]
  },
  {
   "cell_type": "code",
   "execution_count": 372,
   "id": "7b4b964e",
   "metadata": {},
   "outputs": [],
   "source": [
    "df['instant_bookable'] = (df['instant_bookable'] == 't').astype(int)"
   ]
  },
  {
   "cell_type": "code",
   "execution_count": 373,
   "id": "a76e1278",
   "metadata": {},
   "outputs": [],
   "source": [
    "Q1 = df['maximum_nights'].quantile(0.25)\n",
    "Q3 = df['maximum_nights'].quantile(0.75)\n",
    "IQR = Q3 - Q1\n",
    "\n",
    "lower_bound = Q1 - 1.5 * IQR\n",
    "upper_bound = Q3 + 1.5 * IQR\n",
    "\n",
    "df = df[(df['maximum_nights'] >= lower_bound) & (df['maximum_nights'] <= upper_bound)]"
   ]
  },
  {
   "cell_type": "code",
   "execution_count": 374,
   "id": "cb81de58",
   "metadata": {},
   "outputs": [],
   "source": [
    "df = df[df['minimum_nights'] < 365]"
   ]
  }
 ],
 "metadata": {
  "kernelspec": {
   "display_name": "venv",
   "language": "python",
   "name": "python3"
  },
  "language_info": {
   "codemirror_mode": {
    "name": "ipython",
    "version": 3
   },
   "file_extension": ".py",
   "mimetype": "text/x-python",
   "name": "python",
   "nbconvert_exporter": "python",
   "pygments_lexer": "ipython3",
   "version": "3.11.13"
  }
 },
 "nbformat": 4,
 "nbformat_minor": 5
}
