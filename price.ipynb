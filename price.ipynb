{
 "cells": [
  {
   "cell_type": "code",
   "execution_count": null,
   "id": "510369a5",
   "metadata": {},
   "outputs": [],
   "source": [
    "import pandas as pd\n",
    "import numpy as np\n",
    "import matplotlib.pyplot as plt\n",
    "import seaborn as sns\n",
    "import matplotlib\n",
    "\n",
    "matplotlib.rc('font', family='Malgun Gothic')  # 윈도우 기준, 맑은 고딕\n",
    "\n",
    "# 1. 데이터 불러오기\n",
    "df = pd.read_excel(r'C:\\Users\\rlaxo\\Desktop\\2025_Airbnb_NYC_listings.xlsx')\n",
    "\n",
    "# 2. 가격 전처리: $, , 제거 → float형으로 변환\n",
    "df['price'] = df['price'].replace('[\\$,]', '', regex=True).astype(float)\n",
    "\n",
    "# 3. 필요한 컬럼만 추출하고 결측치 제거\n",
    "df = df[['price', 'review_scores_rating']].dropna()\n",
    "\n",
    "# 4. 로그 변환\n",
    "df['log_price'] = np.log1p(df['price'])\n",
    "\n",
    "# 5. IQR 기반 이상치 제거 (log_price 기준)\n",
    "Q1 = df['log_price'].quantile(0.25)\n",
    "Q3 = df['log_price'].quantile(0.75)\n",
    "IQR = Q3 - Q1\n",
    "lower_bound = Q1 - 1.5 * IQR\n",
    "upper_bound = Q3 + 1.5 * IQR\n",
    "\n",
    "# 6. 이상치 제거된 데이터 추출\n",
    "filtered = df[(df['log_price'] >= lower_bound) & (df['log_price'] <= upper_bound)]\n",
    "\n",
    "# 7. 로그 → 원래 가격으로 역변환\n",
    "filtered['price_reversed'] = np.expm1(filtered['log_price'])  # log1p의 역함수\n",
    "\n",
    "# 가격 구간 나누기 (예: $0~$50, $50~$100, ...)\n",
    "bins = list(range(0, 1001, 50))  # 0 ~ 1000까지 50단위로 나누기\n",
    "labels = [f\"${b}~${b+50}\" for b in bins[:-1]]\n",
    "filtered['price_range'] = pd.cut(filtered['price_reversed'], bins=bins, labels=labels, right=False)\n",
    "\n",
    "# 가격대별 숙소 수 집계 (Series)\n",
    "price_distribution = filtered['price_range'].value_counts().sort_index()\n",
    "\n",
    "# 결과 출력\n",
    "print(\"가격대별 숙소 수 분포:\")\n",
    "print(price_distribution)\n",
    "\n",
    "# 8. 시각화: 로그 변환 + 이상치 제거 후 분포\n",
    "plt.figure(figsize=(8, 5))\n",
    "sns.histplot(filtered['log_price'], bins=50, kde=True, color='purple')\n",
    "plt.title('로그 변환 + 이상치 제거 후 가격 분포')\n",
    "plt.xlabel('Log(1 + Price)')\n",
    "plt.ylabel('Count')\n",
    "plt.tight_layout()\n",
    "plt.show()"
   ]
  }
 ],
 "metadata": {
  "kernelspec": {
   "display_name": "Python 3",
   "language": "python",
   "name": "python3"
  },
  "language_info": {
   "name": "python",
   "version": "3.13.3"
  }
 },
 "nbformat": 4,
 "nbformat_minor": 5
}
